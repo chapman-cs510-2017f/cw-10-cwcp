{
 "cells": [
  {
   "cell_type": "markdown",
   "metadata": {
    "collapsed": false
   },
   "source": [
    "# Arrays\n",
    "\n",
    "The array script creates an array and  assigns it 10 bits of memory. It  then assigns a pointer memblock to the \"address\" of the first bit of the block allocated to this arrya. \n",
    "\n",
    "Then it iteratively adds integers to the array by incrementing the memblock pointer to go to the next bite in the allocated block. \n",
    "\n",
    "Once the array is full, we  cycle through the beginning of the array to the end of the array +3 and print out the value of the array at a certain index, then the  value at a certain pointer (starting at memblock and iterating), then the corresponding value of the constant string \"Foo bar .\" using index notation, and then again using pointer notation.\n",
    "\n"
   ]
  },
  {
   "cell_type": "code",
   "execution_count": 0,
   "metadata": {
    "collapsed": false
   },
   "outputs": [
   ],
   "source": [
   ]
  },
  {
   "cell_type": "markdown",
   "metadata": {
    "collapsed": false
   },
   "source": [
    "## Malloc\n",
    "When malloc is called, it creates a block of memory for the array with a specified size, and returns the  address of the first  piece of that memory.\n",
    "\n",
    "## Free\n",
    "free() deallocates memory that was allocated during malloc()"
   ]
  }
 ],
 "metadata": {
  "kernelspec": {
   "display_name": "Bash (Linux)",
   "language": "bash",
   "name": "bash"
  },
  "language_info": {
   "codemirror_mode": "shell",
   "file_extension": ".sh",
   "mimetype": "text/x-sh",
   "name": "bash"
  }
 },
 "nbformat": 4,
 "nbformat_minor": 0
}